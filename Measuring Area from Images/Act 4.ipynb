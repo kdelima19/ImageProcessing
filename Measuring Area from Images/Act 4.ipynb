{
 "cells": [
  {
   "cell_type": "code",
   "execution_count": 1,
   "metadata": {},
   "outputs": [],
   "source": [
    "%matplotlib inline\n",
    "import matplotlib.pyplot as plt \n",
    "import matplotlib.image as mpimg \n",
    "import numpy as np \n",
    "from scipy import ndimage\n",
    "import cv2\n",
    "from skimage import io\n",
    "from PIL import Image"
   ]
  },
  {
   "cell_type": "markdown",
   "metadata": {},
   "source": [
    "# 1. Generate Contour"
   ]
  },
  {
   "cell_type": "code",
   "execution_count": 2,
   "metadata": {},
   "outputs": [
    {
     "name": "stdout",
     "output_type": "stream",
     "text": [
      "Size of the image\n",
      "(256, 256, 4)\n",
      "Actual area of the shape (px)\n",
      "(20, 358.306)\n"
     ]
    },
    {
     "data": {
      "image/png": "[encoded data removed]",
      "text/plain": [
       "<matplotlib.figure.Figure at 0x7f1331248b38>"
      ]
     },
     "metadata": {},
     "output_type": "display_data"
    },
    {
     "name": "stdout",
     "output_type": "stream",
     "text": [
      "Sobel Edge Detection\n"
     ]
    },
    {
     "data": {
      "image/png": "[encoded data removed]",
      "text/plain": [
       "<matplotlib.figure.Figure at 0x7f132c148828>"
      ]
     },
     "metadata": {},
     "output_type": "display_data"
    },
    {
     "name": "stdout",
     "output_type": "stream",
     "text": [
      "Canny Edge Detection\n"
     ]
    },
    {
     "data": {
      "image/png": "[encoded data removed]",
      "text/plain": [
       "<matplotlib.figure.Figure at 0x7f132c1066d8>"
      ]
     },
     "metadata": {},
     "output_type": "display_data"
    }
   ],
   "source": [
    "W =mpimg.imread('circ.png')\n",
    "#Sizes\n",
    "print('Size of the image')\n",
    "print(W.shape)\n",
    "print('Actual area of the shape (px)')\n",
    "act_area= 20,358.306 #got this from GIMP\n",
    "print(act_area)\n",
    "\n",
    "plt.imshow(W)\n",
    "plt.show()\n",
    "\n",
    "print('Sobel Edge Detection')\n",
    "edge_horizont = ndimage.sobel(W, 0)\n",
    "edge_vertical = ndimage.sobel(W, 1)\n",
    "s_edge = np.hypot(edge_horizont, edge_vertical)\n",
    "plt.imshow(s_edge)\n",
    "plt.show()\n",
    "\n",
    "print('Canny Edge Detection')\n",
    "T = cv2.imread('circ.png')\n",
    "c_edge = cv2.Canny(T,256,256)\n",
    "plt.imshow(c_edge,cmap='gray')\n",
    "plt.show()\n"
   ]
  },
  {
   "cell_type": "markdown",
   "metadata": {},
   "source": [
    "# 2. Arrange X,Y coords to increasing Theta"
   ]
  },
  {
   "cell_type": "code",
   "execution_count": 3,
   "metadata": {},
   "outputs": [
    {
     "name": "stdout",
     "output_type": "stream",
     "text": [
      "centroid:  [128.] [128.]\n"
     ]
    }
   ],
   "source": [
    "#Find edge pixel coords\n",
    "ind = np.where(c_edge != [0])\n",
    "#Get the centroid of the shape\n",
    "    #ind[] are the pixel coords of the edges\n",
    "imgx = ind[0].shape #total number of edge\n",
    "imgy = ind[1].shape #            pixels\n",
    "snumx = np.sum(ind[0])\n",
    "snumy = np.sum(ind[1])\n",
    "centx = snumx/imgx \n",
    "centy = snumy/imgy \n",
    "\n",
    "print('centroid: ',centx,centy)\n",
    "\n",
    "#Subtract center of the image\n",
    "centroid_x = ind[0]-centx #centroid in the x-axis\n",
    "centroid_y =ind[1]-centy #centroid in the y-axis\n",
    "\n",
    "#coords = zip(ind[0], ind[1])\n",
    "#coords_list = list(coords) #just in case you wanna check the OG coords\n",
    "#coords_c = zip(centroid_x,centroid_y)\n",
    "#coords_c_list = list(coords_c) #coords subtracted from center\n",
    "\n",
    "#To polar values               \n",
    "r = np.sqrt(centroid_x**2+centroid_y[1]**2)\n",
    "theta = np.arctan2(centroid_y,centroid_x)\n",
    "\n",
    "#ang = zip(centroid_x,centroid_y,sort_theta) -> wrong, causes mismatching\n",
    "ang = zip(centroid_x,centroid_y,theta)\n",
    "ang_list = list(ang)\n",
    "#For sorting list acc to increasing angle\n",
    "def Theta(elem):\n",
    "    return elem[2]\n",
    "ang_slist = sorted(ang_list,key=Theta)\n",
    "ang_slist1 = np.array(ang_slist) #turn to an array (kinda useless rn)\n",
    "#print(ang_slist)\n",
    "#print(max(theta))\n",
    "#print(min(theta))\n",
    "x_points = np.array([i[0] for i in ang_slist])\n",
    "y_points = np.array([i[1] for i in ang_slist])\n"
   ]
  },
  {
   "cell_type": "markdown",
   "metadata": {},
   "source": [
    "# 3. Apply Green's Theorem to get Area"
   ]
  },
  {
   "cell_type": "code",
   "execution_count": 4,
   "metadata": {
    "scrolled": true
   },
   "outputs": [
    {
     "name": "stdout",
     "output_type": "stream",
     "text": [
      "Calculated area of the shape:  [20872.]\n",
      "Actual are of the shape:  (20, 358.306)\n",
      "%error:  [99.90417785 98.28331736]\n"
     ]
    }
   ],
   "source": [
    " #FOR GREEN\"S THEOREM\n",
    "x_points = np.array([i[0] for i in ang_slist])\n",
    "y_points = np.array([i[1] for i in ang_slist])\n",
    "    \n",
    "#print(x_points)\n",
    "#print(y_points)\n",
    "    \n",
    "def Green(x,y):\n",
    "    a = 0\n",
    "    for i in range(len(x)-1):\n",
    "        a += x[i]*y[i+1] - y[i]*x[i+1]\n",
    "    return abs(a/2)\n",
    "    \n",
    "Area = Green(x_points,y_points) + ind[0].shape\n",
    "err =  100*(Area-act_area)/(Area)\n",
    "print('Calculated area of the shape: ',Area)\n",
    "print('Actual are of the shape: ',act_area)\n",
    "print('%error: ',err )"
   ]
  },
  {
   "cell_type": "markdown",
   "metadata": {},
   "source": [
    "# For a square"
   ]
  },
  {
   "cell_type": "code",
   "execution_count": 5,
   "metadata": {},
   "outputs": [
    {
     "name": "stdout",
     "output_type": "stream",
     "text": [
      "Size of the image\n",
      "(256, 256, 3)\n",
      "Actual area of the shape (px)\n",
      "(21, 904)\n"
     ]
    },
    {
     "data": {
      "image/png": "[encoded data removed]",
      "text/plain": [
       "<matplotlib.figure.Figure at 0x7f132c0a5e80>"
      ]
     },
     "metadata": {},
     "output_type": "display_data"
    },
    {
     "name": "stdout",
     "output_type": "stream",
     "text": [
      "Sobel Edge Detection\n"
     ]
    },
    {
     "data": {
      "image/png": "[encoded data removed]",
      "text/plain": [
       "<matplotlib.figure.Figure at 0x7f132c09d240>"
      ]
     },
     "metadata": {},
     "output_type": "display_data"
    },
    {
     "name": "stdout",
     "output_type": "stream",
     "text": [
      "Canny Edge Detection\n"
     ]
    },
    {
     "data": {
      "image/png": "[encoded data removed]",
      "text/plain": [
       "<matplotlib.figure.Figure at 0x7f132bdc49e8>"
      ]
     },
     "metadata": {},
     "output_type": "display_data"
    },
    {
     "name": "stdout",
     "output_type": "stream",
     "text": [
      "centroid:  [128.25170068] [129.25170068]\n",
      "Calculated area of the shape:  [22451.87414966]\n",
      "Actual are of the shape:  (21, 904)\n",
      "%error:  [99.90646661 95.97361007]\n"
     ]
    }
   ],
   "source": [
    "W =mpimg.imread('squarepants.png')\n",
    "#Sizes\n",
    "print('Size of the image')\n",
    "print(W.shape)\n",
    "print('Actual area of the shape (px)')\n",
    "act_area= 21,904 #got this from GIMP\n",
    "print(act_area)\n",
    "\n",
    "plt.imshow(W)\n",
    "plt.show()\n",
    "\n",
    "print('Sobel Edge Detection')\n",
    "edge_horizont = ndimage.sobel(W, 0)\n",
    "edge_vertical = ndimage.sobel(W, 1)\n",
    "s_edge = np.hypot(edge_horizont, edge_vertical)\n",
    "plt.imshow(s_edge)\n",
    "plt.show()\n",
    "\n",
    "print('Canny Edge Detection')\n",
    "T = cv2.imread('squarepants.png')\n",
    "c_edge = cv2.Canny(T,256,256)\n",
    "plt.imshow(c_edge,cmap='gray')\n",
    "plt.show()\n",
    "\n",
    "#Find edge pixel coords\n",
    "ind = np.where(c_edge != [0])\n",
    "#Get the centroid of the shape\n",
    "    #total number of pixels\n",
    "imgx = ind[0].shape\n",
    "imgy = ind[1].shape\n",
    "snumx = np.sum(ind[0])\n",
    "snumy = np.sum(ind[1])\n",
    "centx = snumx/imgx\n",
    "centy = snumy/imgy\n",
    "\n",
    "print('centroid: ',centx,centy)\n",
    "\n",
    "#Subtract center of the image\n",
    "centroid_x = ind[0]-centx\n",
    "centroid_y =ind[1]-centy\n",
    "\n",
    "#coords = zip(ind[0], ind[1])\n",
    "#coords_list = list(coords) #just in case you wanna check the OG coords\n",
    "#coords_c = zip(centroid_x,centroid_y)\n",
    "#coords_c_list = list(coords_c) #coords subtracted from center\n",
    "\n",
    "#To polar values               \n",
    "r = np.sqrt(centroid_x**2+centroid_y[1]**2)\n",
    "theta = np.arctan2(centroid_y,centroid_x)\n",
    "\n",
    "#ang = zip(centroid_x,centroid_y,sort_theta) -> wrong, causes mismatching\n",
    "ang = zip(centroid_x,centroid_y,theta)\n",
    "ang_list = list(ang)\n",
    "#For sorting list acc to increasing angle\n",
    "def Theta(elem):\n",
    "    return elem[2]\n",
    "ang_slist = sorted(ang_list,key=Theta)\n",
    "ang_slist1 = np.array(ang_slist) #turn to an array (kinda useless rn)\n",
    "#print(ang_slist)\n",
    "#print(max(theta))\n",
    "#print(min(theta))\n",
    "x_points = np.array([i[0] for i in ang_slist])\n",
    "y_points = np.array([i[1] for i in ang_slist])\n",
    "\n",
    "\n",
    " #FOR GREEN\"S THEOREM\n",
    "x_points = np.array([i[0] for i in ang_slist])\n",
    "y_points = np.array([i[1] for i in ang_slist])\n",
    "    \n",
    "#print(x_points)\n",
    "#print(y_points)\n",
    "    \n",
    "def Green(x,y):\n",
    "    a = 0\n",
    "    for i in range(len(x)-1):\n",
    "        a += x[i]*y[i+1] - y[i]*x[i+1]\n",
    "    return abs(a/2)\n",
    "    \n",
    "Area = Green(x_points,y_points) + ind[0].shape\n",
    "err =  100*(Area-act_area)/(Area)\n",
    "print('Calculated area of the shape: ',Area)\n",
    "print('Actual are of the shape: ',act_area)\n",
    "print('%error: ',err )"
   ]
  },
  {
   "cell_type": "code",
   "execution_count": 6,
   "metadata": {},
   "outputs": [
    {
     "name": "stdout",
     "output_type": "stream",
     "text": [
      "Size of the image\n",
      "(256, 256, 3)\n",
      "Actual area of the shape (px)\n",
      "(17, 563)\n"
     ]
    },
    {
     "data": {
      "image/png": "[encoded data removed]",
      "text/plain": [
       "<matplotlib.figure.Figure at 0x7f132bdfcf60>"
      ]
     },
     "metadata": {},
     "output_type": "display_data"
    },
    {
     "name": "stdout",
     "output_type": "stream",
     "text": [
      "Sobel Edge Detection\n"
     ]
    },
    {
     "data": {
      "image/png": "[encoded data removed]",
      "text/plain": [
       "<matplotlib.figure.Figure at 0x7f132bd46b00>"
      ]
     },
     "metadata": {},
     "output_type": "display_data"
    },
    {
     "name": "stdout",
     "output_type": "stream",
     "text": [
      "Canny Edge Detection\n"
     ]
    },
    {
     "data": {
      "image/png": "[encoded data removed]",
      "text/plain": [
       "<matplotlib.figure.Figure at 0x7f132bd00908>"
      ]
     },
     "metadata": {},
     "output_type": "display_data"
    },
    {
     "name": "stdout",
     "output_type": "stream",
     "text": [
      "centroid:  [127.66134752] [127.84219858]\n",
      "Calculated area of the shape:  [18101.16932624]\n",
      "Actual are of the shape:  (17, 563)\n",
      "%error:  [99.90608342 96.8897037 ]\n"
     ]
    }
   ],
   "source": [
    "W =mpimg.imread('rekt.png')\n",
    "#Sizes\n",
    "print('Size of the image')\n",
    "print(W.shape)\n",
    "print('Actual area of the shape (px)')\n",
    "act_area= 17,563 #got this from GIMP\n",
    "print(act_area)\n",
    "\n",
    "plt.imshow(W)\n",
    "plt.show()\n",
    "\n",
    "print('Sobel Edge Detection')\n",
    "edge_horizont = ndimage.sobel(W, 0)\n",
    "edge_vertical = ndimage.sobel(W, 1)\n",
    "s_edge = np.hypot(edge_horizont, edge_vertical)\n",
    "plt.imshow(s_edge)\n",
    "plt.show()\n",
    "\n",
    "print('Canny Edge Detection')\n",
    "T = cv2.imread('rekt.png')\n",
    "c_edge = cv2.Canny(T,256,256)\n",
    "plt.imshow(c_edge,cmap='gray')\n",
    "plt.show()\n",
    "\n",
    "#Find edge pixel coords\n",
    "ind = np.where(c_edge != [0])\n",
    "#Get the centroid of the shape\n",
    "    #total number of pixels\n",
    "imgx = ind[0].shape\n",
    "imgy = ind[1].shape\n",
    "snumx = np.sum(ind[0])\n",
    "snumy = np.sum(ind[1])\n",
    "centx = snumx/imgx\n",
    "centy = snumy/imgy\n",
    "\n",
    "print('centroid: ',centx,centy)\n",
    "\n",
    "#Subtract center of the image\n",
    "centroid_x = ind[0]-centx\n",
    "centroid_y =ind[1]-centy\n",
    "\n",
    "#coords = zip(ind[0], ind[1])\n",
    "#coords_list = list(coords) #just in case you wanna check the OG coords\n",
    "#coords_c = zip(centroid_x,centroid_y)\n",
    "#coords_c_list = list(coords_c) #coords subtracted from center\n",
    "\n",
    "#To polar values               \n",
    "r = np.sqrt(centroid_x**2+centroid_y[1]**2)\n",
    "theta = np.arctan2(centroid_y,centroid_x)\n",
    "\n",
    "#ang = zip(centroid_x,centroid_y,sort_theta) -> wrong, causes mismatching\n",
    "ang = zip(centroid_x,centroid_y,theta)\n",
    "ang_list = list(ang)\n",
    "#For sorting list acc to increasing angle\n",
    "def Theta(elem):\n",
    "    return elem[2]\n",
    "ang_slist = sorted(ang_list,key=Theta)\n",
    "ang_slist1 = np.array(ang_slist) #turn to an array (kinda useless rn)\n",
    "#print(ang_slist)\n",
    "#print(max(theta))\n",
    "#print(min(theta))\n",
    "x_points = np.array([i[0] for i in ang_slist])\n",
    "y_points = np.array([i[1] for i in ang_slist])\n",
    "\n",
    "\n",
    " #FOR GREEN\"S THEOREM\n",
    "x_points = np.array([i[0] for i in ang_slist])\n",
    "y_points = np.array([i[1] for i in ang_slist])\n",
    "    \n",
    "#print(x_points)\n",
    "#print(y_points)\n",
    "    \n",
    "def Green(x,y):\n",
    "    a = 0\n",
    "    for i in range(len(x)-1):\n",
    "        a += x[i]*y[i+1] - y[i]*x[i+1]\n",
    "    return abs(a/2)\n",
    "    \n",
    "Area = Green(x_points,y_points) + ind[0].shape\n",
    "err =  100*(Area-act_area)/(Area)\n",
    "print('Calculated area of the shape: ',Area)\n",
    "print('Actual are of the shape: ',act_area)\n",
    "print('%error: ',err )"
   ]
  },
  {
   "cell_type": "code",
   "execution_count": 7,
   "metadata": {},
   "outputs": [
    {
     "name": "stdout",
     "output_type": "stream",
     "text": [
      "Size of the image\n",
      "(256, 256, 3)\n",
      "Actual area of the shape (px)\n",
      "(10, 152.5)\n"
     ]
    },
    {
     "data": {
      "image/png": "[encoded data removed]",
      "text/plain": [
       "<matplotlib.figure.Figure at 0x7f132bdfc898>"
      ]
     },
     "metadata": {},
     "output_type": "display_data"
    },
    {
     "name": "stdout",
     "output_type": "stream",
     "text": [
      "Sobel Edge Detection\n"
     ]
    },
    {
     "data": {
      "image/png": "[encoded data removed]",
      "text/plain": [
       "<matplotlib.figure.Figure at 0x7f13312487f0>"
      ]
     },
     "metadata": {},
     "output_type": "display_data"
    },
    {
     "name": "stdout",
     "output_type": "stream",
     "text": [
      "Canny Edge Detection\n"
     ]
    },
    {
     "data": {
      "image/png": "[encoded data removed]",
      "text/plain": [
       "<matplotlib.figure.Figure at 0x7f132bd1b1d0>"
      ]
     },
     "metadata": {},
     "output_type": "display_data"
    },
    {
     "name": "stdout",
     "output_type": "stream",
     "text": [
      "centroid:  [141.38380282] [130.88732394]\n",
      "Calculated area of the shape:  [10672.80809859]\n",
      "Actual are of the shape:  (10, 152.5)\n",
      "%error:  [99.90630395 98.57113518]\n"
     ]
    }
   ],
   "source": [
    "W =mpimg.imread('tri.png')\n",
    "#Sizes\n",
    "print('Size of the image')\n",
    "print(W.shape)\n",
    "print('Actual area of the shape (px)')\n",
    "act_area= 10,152.5\n",
    "#b = 155 , h = 131\n",
    "#got this from GIMP\n",
    "print(act_area)\n",
    "\n",
    "plt.imshow(W)\n",
    "plt.show()\n",
    "\n",
    "print('Sobel Edge Detection')\n",
    "edge_horizont = ndimage.sobel(W, 0)\n",
    "edge_vertical = ndimage.sobel(W, 1)\n",
    "s_edge = np.hypot(edge_horizont, edge_vertical)\n",
    "plt.imshow(s_edge)\n",
    "plt.show()\n",
    "\n",
    "print('Canny Edge Detection')\n",
    "T = cv2.imread('tri.png')\n",
    "c_edge = cv2.Canny(T,256,256)\n",
    "plt.imshow(c_edge,cmap='gray')\n",
    "plt.show()\n",
    "\n",
    "#Find edge pixel coords\n",
    "ind = np.where(c_edge != [0])\n",
    "#Get the centroid of the shape\n",
    "    #total number of pixels\n",
    "imgx = ind[0].shape\n",
    "imgy = ind[1].shape\n",
    "snumx = np.sum(ind[0])\n",
    "snumy = np.sum(ind[1])\n",
    "centx = snumx/imgx\n",
    "centy = snumy/imgy\n",
    "\n",
    "print('centroid: ',centx,centy)\n",
    "\n",
    "#Subtract center of the image\n",
    "centroid_x = ind[0]-centx\n",
    "centroid_y =ind[1]-centy\n",
    "\n",
    "#coords = zip(ind[0], ind[1])\n",
    "#coords_list = list(coords) #just in case you wanna check the OG coords\n",
    "#coords_c = zip(centroid_x,centroid_y)\n",
    "#coords_c_list = list(coords_c) #coords subtracted from center\n",
    "\n",
    "#To polar values               \n",
    "r = np.sqrt(centroid_x**2+centroid_y[1]**2)\n",
    "theta = np.arctan2(centroid_y,centroid_x)\n",
    "\n",
    "#ang = zip(centroid_x,centroid_y,sort_theta) -> wrong, causes mismatching\n",
    "ang = zip(centroid_x,centroid_y,theta)\n",
    "ang_list = list(ang)\n",
    "#For sorting list acc to increasing angle\n",
    "def Theta(elem):\n",
    "    return elem[2]\n",
    "ang_slist = sorted(ang_list,key=Theta)\n",
    "ang_slist1 = np.array(ang_slist) #turn to an array (kinda useless rn)\n",
    "#print(ang_slist)\n",
    "#print(max(theta))\n",
    "#print(min(theta))\n",
    "x_points = np.array([i[0] for i in ang_slist])\n",
    "y_points = np.array([i[1] for i in ang_slist])\n",
    "\n",
    "\n",
    " #FOR GREEN\"S THEOREM\n",
    "x_points = np.array([i[0] for i in ang_slist])\n",
    "y_points = np.array([i[1] for i in ang_slist])\n",
    "    \n",
    "#print(x_points)\n",
    "#print(y_points)\n",
    "    \n",
    "def Green(x,y):\n",
    "    a = 0\n",
    "    for i in range(len(x)-1):\n",
    "        a += x[i]*y[i+1] - y[i]*x[i+1]\n",
    "    return abs(a/2)\n",
    "    \n",
    "Area = Green(x_points,y_points) + ind[0].shape\n",
    "err =  100*(Area-act_area)/(Area)\n",
    "print('Calculated area of the shape: ',Area)\n",
    "print('Actual are of the shape: ',act_area)\n",
    "print('%error: ',err )"
   ]
  },
  {
   "cell_type": "markdown",
   "metadata": {},
   "source": [
    "# Now, I'll use my favorite historical site and get its area"
   ]
  },
  {
   "cell_type": "markdown",
   "metadata": {},
   "source": [
    "## The Acropolis in Athens, Greece that houses the Parthenon"
   ]
  },
  {
   "cell_type": "code",
   "execution_count": null,
   "metadata": {},
   "outputs": [],
   "source": []
  },
  {
   "cell_type": "code",
   "execution_count": 8,
   "metadata": {},
   "outputs": [
    {
     "name": "stdout",
     "output_type": "stream",
     "text": [
      "Size of the image\n",
      "(768, 1366, 4)\n",
      "Actual area of the shape (px)\n",
      "(30, 400)\n"
     ]
    },
    {
     "data": {
      "image/png": "[encoded data removed]",
      "text/plain": [
       "<matplotlib.figure.Figure at 0x7f132c189048>"
      ]
     },
     "metadata": {},
     "output_type": "display_data"
    },
    {
     "name": "stdout",
     "output_type": "stream",
     "text": [
      "Sobel Edge Detection\n"
     ]
    },
    {
     "data": {
      "image/png": "[encoded data removed]",
      "text/plain": [
       "<matplotlib.figure.Figure at 0x7f132c0e1cf8>"
      ]
     },
     "metadata": {},
     "output_type": "display_data"
    },
    {
     "name": "stdout",
     "output_type": "stream",
     "text": [
      "Canny Edge Detection\n"
     ]
    },
    {
     "data": {
      "image/png": "[encoded data removed]",
      "text/plain": [
       "<matplotlib.figure.Figure at 0x7f132bd88b00>"
      ]
     },
     "metadata": {},
     "output_type": "display_data"
    },
    {
     "name": "stdout",
     "output_type": "stream",
     "text": [
      "centroid:  [425.56962025] [683.71326362]\n",
      "Calculated area of the shape:  [154250.21518987]\n",
      "Actual area of the shape:  (30, 400)  m\n",
      "Pixel conversion to sq. m.:  [33682.02794783]\n"
     ]
    }
   ],
   "source": [
    "W =mpimg.imread('acropolis_outline.png')\n",
    "#Sizes\n",
    "print('Size of the image')\n",
    "print(W.shape)\n",
    "print('Actual area of the shape (px)')\n",
    "act_area= 30,400 #got this from GIMP\n",
    "print(act_area)\n",
    "\n",
    "plt.imshow(W)\n",
    "plt.show()\n",
    "\n",
    "print('Sobel Edge Detection')\n",
    "edge_horizont = ndimage.sobel(W, 0)\n",
    "edge_vertical = ndimage.sobel(W, 1)\n",
    "s_edge = np.hypot(edge_horizont, edge_vertical)\n",
    "plt.imshow(s_edge)\n",
    "plt.show()\n",
    "\n",
    "print('Canny Edge Detection')\n",
    "T = cv2.imread('acropolis_outline.png')\n",
    "c_edge = cv2.Canny(T,256,256)\n",
    "plt.imshow(c_edge,cmap='gray')\n",
    "plt.show()\n",
    "\n",
    "#Find edge pixel coords\n",
    "ind = np.where(c_edge != [0])\n",
    "#Get the centroid of the shape\n",
    "    #total number of pixels\n",
    "imgx = ind[0].shape\n",
    "imgy = ind[1].shape\n",
    "snumx = np.sum(ind[0])\n",
    "snumy = np.sum(ind[1])\n",
    "centx = snumx/imgx\n",
    "centy = snumy/imgy\n",
    "\n",
    "print('centroid: ',centx,centy)\n",
    "\n",
    "#Subtract center of the image\n",
    "centroid_x = ind[0]-centx\n",
    "centroid_y =ind[1]-centy\n",
    "\n",
    "#coords = zip(ind[0], ind[1])\n",
    "#coords_list = list(coords) #just in case you wanna check the OG coords\n",
    "#coords_c = zip(centroid_x,centroid_y)\n",
    "#coords_c_list = list(coords_c) #coords subtracted from center\n",
    "\n",
    "#To polar values               \n",
    "r = np.sqrt(centroid_x**2+centroid_y[1]**2)\n",
    "theta = np.arctan2(centroid_y,centroid_x)\n",
    "\n",
    "#ang = zip(centroid_x,centroid_y,sort_theta) -> wrong, causes mismatching\n",
    "ang = zip(centroid_x,centroid_y,theta)\n",
    "ang_list = list(ang)\n",
    "#For sorting list acc to increasing angle\n",
    "def Theta(elem):\n",
    "    return elem[2]\n",
    "ang_slist = sorted(ang_list,key=Theta)\n",
    "ang_slist1 = np.array(ang_slist) #turn to an array (kinda useless rn)\n",
    "#print(ang_slist)\n",
    "#print(max(theta))\n",
    "#print(min(theta))\n",
    "x_points = np.array([i[0] for i in ang_slist])\n",
    "y_points = np.array([i[1] for i in ang_slist])\n",
    "\n",
    "\n",
    " #FOR GREEN\"S THEOREM\n",
    "x_points = np.array([i[0] for i in ang_slist])\n",
    "y_points = np.array([i[1] for i in ang_slist])\n",
    "    \n",
    "#print(x_points)\n",
    "#print(y_points)\n",
    "    \n",
    "def Green(x,y):\n",
    "    a = 0\n",
    "    for i in range(len(x)-1):\n",
    "        a += x[i]*y[i+1] - y[i]*x[i+1]\n",
    "    return abs(a/2)\n",
    "    \n",
    "Area = Green(x_points,y_points) + ind[0].shape\n",
    "# 107 pixels per 50 m\n",
    "print('Calculated area of the shape: ',Area)\n",
    "print('Actual area of the shape: ',act_area,' m')\n",
    "print('Pixel conversion to sq. m.: ', Area*(50**2)/107**2)"
   ]
  },
  {
   "cell_type": "code",
   "execution_count": null,
   "metadata": {},
   "outputs": [],
   "source": []
  }
 ],
 "metadata": {
  "kernelspec": {
   "display_name": "Python 3",
   "language": "python",
   "name": "python3"
  },
  "language_info": {
   "codemirror_mode": {
    "name": "ipython",
    "version": 3
   },
   "file_extension": ".py",
   "mimetype": "text/x-python",
   "name": "python",
   "nbconvert_exporter": "python",
   "pygments_lexer": "ipython3",
   "version": "3.7.0"
  }
 },
 "nbformat": 4,
 "nbformat_minor": 2
}

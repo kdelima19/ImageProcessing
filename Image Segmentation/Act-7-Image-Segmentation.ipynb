{
 "cells": [
  {
   "cell_type": "code",
   "execution_count": 1,
   "metadata": {},
   "outputs": [],
   "source": [
    "%matplotlib inline\n",
    "import matplotlib.pyplot as plt \n",
    "import numpy as np \n",
    "import cv2\n",
    "from scipy.signal import find_peaks\n",
    "from skimage import img_as_float"
   ]
  },
  {
   "cell_type": "markdown",
   "metadata": {},
   "source": [
    "## Threshold"
   ]
  },
  {
   "cell_type": "code",
   "execution_count": 2,
   "metadata": {},
   "outputs": [
    {
     "ename": "error",
     "evalue": "OpenCV(4.1.0) C:\\projects\\opencv-python\\opencv\\modules\\imgproc\\src\\color.cpp:182: error: (-215:Assertion failed) !_src.empty() in function 'cv::cvtColor'\n",
     "output_type": "error",
     "traceback": [
      "\u001b[1;31m---------------------------------------------------------------------------\u001b[0m",
      "\u001b[1;31merror\u001b[0m                                     Traceback (most recent call last)",
      "\u001b[1;32m<ipython-input-2-42e7c2d51f1b>\u001b[0m in \u001b[0;36m<module>\u001b[1;34m()\u001b[0m\n\u001b[1;32m----> 1\u001b[1;33m \u001b[0mM\u001b[0m \u001b[1;33m=\u001b[0m \u001b[0mcv2\u001b[0m\u001b[1;33m.\u001b[0m\u001b[0mcvtColor\u001b[0m\u001b[1;33m(\u001b[0m\u001b[0mcv2\u001b[0m\u001b[1;33m.\u001b[0m\u001b[0mimread\u001b[0m\u001b[1;33m(\u001b[0m\u001b[1;34m'Chanel_5.jpg'\u001b[0m\u001b[1;33m)\u001b[0m\u001b[1;33m,\u001b[0m \u001b[0mcv2\u001b[0m\u001b[1;33m.\u001b[0m\u001b[0mCOLOR_BGR2RGB\u001b[0m\u001b[1;33m)\u001b[0m\u001b[1;33m\u001b[0m\u001b[0m\n\u001b[0m\u001b[0;32m      2\u001b[0m \u001b[0mR\u001b[0m\u001b[1;33m,\u001b[0m\u001b[0mG\u001b[0m\u001b[1;33m,\u001b[0m\u001b[0mB\u001b[0m \u001b[1;33m=\u001b[0m \u001b[0mcv2\u001b[0m\u001b[1;33m.\u001b[0m\u001b[0msplit\u001b[0m\u001b[1;33m(\u001b[0m\u001b[0mM\u001b[0m\u001b[1;33m)\u001b[0m\u001b[1;33m\u001b[0m\u001b[0m\n\u001b[0;32m      3\u001b[0m \u001b[1;33m\u001b[0m\u001b[0m\n\u001b[0;32m      4\u001b[0m \u001b[0mM_gray\u001b[0m \u001b[1;33m=\u001b[0m \u001b[0mcv2\u001b[0m\u001b[1;33m.\u001b[0m\u001b[0mcvtColor\u001b[0m\u001b[1;33m(\u001b[0m\u001b[0mM\u001b[0m\u001b[1;33m,\u001b[0m \u001b[0mcv2\u001b[0m\u001b[1;33m.\u001b[0m\u001b[0mCOLOR_RGB2GRAY\u001b[0m\u001b[1;33m)\u001b[0m\u001b[1;33m\u001b[0m\u001b[0m\n\u001b[0;32m      5\u001b[0m \u001b[1;33m\u001b[0m\u001b[0m\n",
      "\u001b[1;31merror\u001b[0m: OpenCV(4.1.0) C:\\projects\\opencv-python\\opencv\\modules\\imgproc\\src\\color.cpp:182: error: (-215:Assertion failed) !_src.empty() in function 'cv::cvtColor'\n"
     ]
    }
   ],
   "source": [
    "M = cv2.cvtColor(cv2.imread('Chanel_5.jpg'), cv2.COLOR_BGR2RGB)\n",
    "R,G,B = cv2.split(M)\n",
    "\n",
    "M_gray = cv2.cvtColor(M, cv2.COLOR_RGB2GRAY)\n",
    "\n",
    "\n",
    "# plt.figure(figsize=(15, 10))\n",
    "# plt.axis('off')\n",
    "# plt.imshow(M)\n",
    "# plt.title('Original Image')\n",
    "# plt.show()\n",
    "\n",
    "plt.figure(figsize=[15,10])\n",
    "plt.axis('off')\n",
    "plt.imshow(M_gray,'gray')\n",
    "#plt.title('Original Image in Grayscale')\n",
    "plt.show()"
   ]
  },
  {
   "cell_type": "code",
   "execution_count": null,
   "metadata": {
    "scrolled": false
   },
   "outputs": [],
   "source": [
    "hist, bin_edges = np.histogram(M_gray, bins = np.linspace(0,255,257), density = \"True\")\n",
    "norm_hist = (hist-min(hist))/(max(hist)-min(hist))\n",
    "\n",
    "plt.figure(figsize=[8,5])\n",
    "plt.rcParams['axes.titlesize'] = 17\n",
    "plt.rcParams.update({'font.size': 15})\n",
    "plt.plot(hist,'turquoise',linewidth=2.5)\n",
    "\n",
    "plt.xlabel('Pixel values')\n",
    "plt.ylabel('Intensity')\n",
    "plt.title('Original Histogram')\n",
    "plt.show()\n",
    "\n",
    "plt.figure(figsize=[8,5])\n",
    "plt.rcParams['axes.titlesize'] = 17\n",
    "plt.rcParams.update({'font.size': 15})\n",
    "plt.plot(norm_hist,'turquoise',linewidth=2.5)\n",
    "plt.xlabel('Pixel values')\n",
    "plt.ylabel('Intensity')\n",
    "plt.title('Normalized Histogram (PDF)')\n",
    "plt.show()\n",
    "\n"
   ]
  },
  {
   "cell_type": "code",
   "execution_count": null,
   "metadata": {},
   "outputs": [],
   "source": [
    "peak, _ = find_peaks(norm_hist,height=0.02)\n",
    "\n",
    "\n",
    "plt.figure(figsize=[8,5])\n",
    "plt.rcParams['axes.titlesize'] = 17\n",
    "plt.rcParams.update({'font.size': 15})\n",
    "plt.plot(norm_hist,'turquoise',linewidth=2.5)\n",
    "plt.plot(peak, norm_hist[peak],'x',  color='r', markersize = 10, linewidth=6,label='Peak value')\n",
    "#plt.text(peak, norm_hist[peak],peak,ha='left', va='top')\n",
    "plt.legend()\n",
    "plt.xlabel('Pixel values')\n",
    "plt.ylabel('Intensity')\n",
    "plt.title('Normalized Histogram (PDF)')\n",
    "plt.show()\n",
    "\n",
    "print(peak)"
   ]
  },
  {
   "cell_type": "markdown",
   "metadata": {},
   "source": [
    "# Thresholding Method"
   ]
  },
  {
   "cell_type": "code",
   "execution_count": null,
   "metadata": {},
   "outputs": [],
   "source": [
    "BW = M_gray < 220\n",
    "\n",
    "plt.figure(figsize=[15,6])\n",
    "plt.rcParams['axes.titlesize'] = 17\n",
    "plt.subplot(121)\n",
    "plt.imshow(M_gray,'gray')\n",
    "plt.title('Grayscale Image')\n",
    "plt.axis('off')\n",
    "plt.subplot(122)\n",
    "plt.imshow(BW,'gray')\n",
    "plt.title('Segmented Image')\n",
    "plt.axis('off')\n",
    "plt.show()"
   ]
  },
  {
   "cell_type": "markdown",
   "metadata": {},
   "source": [
    "## NCC"
   ]
  },
  {
   "cell_type": "code",
   "execution_count": null,
   "metadata": {},
   "outputs": [],
   "source": [
    "# M_sub = cv2.cvtColor(cv2.imread('Patch_Chanel_Bag.png'), cv2.COLOR_BGR2RGB)\n",
    "\n",
    "# hist_sub, bin_edges_sub = np.histogram(M_sub, bins = np.linspace(0,255,257), density = \"True\")\n",
    "# norm_hist_sub = (hist_sub-min(hist_sub))/(max(hist_sub)-min(hist_sub))\n",
    "\n",
    "# M_f = img_as_float(M) \n",
    "# R,G,B = cv2.split(M_f)\n",
    "\n",
    "# # Overall pixels\n",
    "# I = R + G + B\n",
    "# r = R/I\n",
    "# g = G/I\n",
    "# b = 1-r-g\n",
    "\n",
    "# # subregion\n",
    "# M_f_sub = img_as_float(M_sub) \n",
    "# R1,G1,B1 = cv2.split(M_f_sub)\n",
    "\n",
    "# I_s = R1 + G1 + B1\n",
    "# r_s = R1/I_s\n",
    "# g_s = G1/I_s\n",
    "# b_s = 1-r_s-g_s\n",
    "\n",
    "# # plt.figure(figsize=[12,5])\n",
    "# # plt.rcParams['axes.titlesize'] = 17\n",
    "# # plt.imshow(M_sub)\n",
    "# # plt.title('Subregion of ROI')\n",
    "# # plt.axis('off')\n",
    "# # plt.show()\n",
    "\n",
    "# plt.figure(figsize=[8,5])\n",
    "# plt.rcParams['axes.titlesize'] = 17\n",
    "# plt.rcParams.update({'font.size': 15})\n",
    "# plt.plot(norm_hist_sub,'turquoise',linewidth=2.5)\n",
    "# plt.xlabel('Pixel values')\n",
    "# plt.ylabel('Intensity')\n",
    "# plt.title('Normalized Histogram (PDF) of Subregion of ROI')\n",
    "# plt.show()"
   ]
  },
  {
   "cell_type": "markdown",
   "metadata": {},
   "source": [
    "# Parametric Segmentation"
   ]
  },
  {
   "cell_type": "code",
   "execution_count": null,
   "metadata": {},
   "outputs": [],
   "source": [
    "# Gaussian Function\n",
    "def Gauss_dist(c,c_s):\n",
    "    cc = 1/(np.std(c_s)*np.sqrt(2*np.pi))\n",
    "    cep = -(c-np.mean(c_s))**2/(2*np.std(c_s)**2)\n",
    "    pc = cc*np.exp(cep)\n",
    "    return pc\n",
    "\n",
    "#Parametric\n",
    "def Parametric(image, patch):\n",
    "    M = cv2.cvtColor(cv2.imread(image), cv2.COLOR_BGR2RGB)\n",
    "    M_sub = cv2.cvtColor(cv2.imread(patch), cv2.COLOR_BGR2RGB)\n",
    "\n",
    "    hist_sub, bin_edges_sub = np.histogram(M_sub, bins = np.linspace(0,255,257), density = \"True\")\n",
    "    norm_hist_sub = (hist_sub-min(hist_sub))/(max(hist_sub)-min(hist_sub))\n",
    "\n",
    "    M_f = img_as_float(M) \n",
    "    R,G,B = cv2.split(M_f)\n",
    "\n",
    "    # Overall pixels\n",
    "    I = R + G + B\n",
    "    r = R/I\n",
    "    g = G/I\n",
    "    b = 1-r-g\n",
    "\n",
    "    # subregion\n",
    "    M_f_sub = img_as_float(M_sub) \n",
    "    R1,G1,B1 = cv2.split(M_f_sub)\n",
    "\n",
    "    I_s = R1 + G1 + B1\n",
    "    r_s = R1/I_s\n",
    "    g_s = G1/I_s\n",
    "    b_s = 1-r_s-g_s\n",
    "    \n",
    "    \n",
    "    #Parametric Segmentation Part\n",
    "    pr = Gauss_dist(r,r_s)\n",
    "    pg = Gauss_dist(g,g_s)\n",
    "    joint = pr*pg\n",
    "\n",
    "    plt.figure(figsize=[8,5])\n",
    "    plt.rcParams['axes.titlesize'] = 17\n",
    "    plt.rcParams.update({'font.size': 15})\n",
    "    plt.plot(joint,'turquoise',linewidth=2.5)\n",
    "    plt.xlabel('Pixel values')\n",
    "    plt.ylabel('Intensity')\n",
    "    plt.title('Joint Probability Distribution of the Image')\n",
    "    plt.show()\n",
    "\n",
    "\n",
    "    plt.figure(figsize=[15,6])\n",
    "    plt.rcParams['axes.titlesize'] = 17\n",
    "    plt.imshow(joint,'gray')\n",
    "    plt.title('Result Image')\n",
    "    plt.axis('off')\n",
    "    plt.show()"
   ]
  },
  {
   "cell_type": "markdown",
   "metadata": {},
   "source": [
    "## R vs. G"
   ]
  },
  {
   "cell_type": "code",
   "execution_count": null,
   "metadata": {},
   "outputs": [],
   "source": [
    "image = M\n",
    "cropped = M_sub\n",
    "\n",
    "image = image.astype(float)\n",
    "cropped = cropped.astype(float)\n",
    "\n",
    "R_image = image[:,:,0]\n",
    "G_image = image[:,:,1]\n",
    "B_image = image[:,:,2]\n",
    "\n",
    "R_cropped = cropped[:,:,0]\n",
    "G_cropped = cropped[:,:,1]\n",
    "B_cropped = cropped[:,:,2]\n",
    "\n",
    "I_image = R_image + G_image + B_image\n",
    "I_cropped = R_cropped + G_cropped + B_cropped"
   ]
  },
  {
   "cell_type": "code",
   "execution_count": null,
   "metadata": {},
   "outputs": [],
   "source": [
    "I_image[I_image==0] = 10000000\n",
    "I_cropped[I_cropped==0] = 10000000\n",
    "\n",
    "r_image = R_image/I_image\n",
    "g_image = G_image/I_image\n",
    "b_image = B_image/I_image\n",
    "\n",
    "r_cropped = R_cropped/I_cropped\n",
    "g_cropped = G_cropped/I_cropped\n",
    "b_cropped = B_cropped/I_cropped\n",
    "\n",
    "b_image = 1 - r_image - g_image\n",
    "b_cropped = 1 - r_cropped - g_cropped"
   ]
  },
  {
   "cell_type": "code",
   "execution_count": null,
   "metadata": {},
   "outputs": [],
   "source": [
    "plt.scatter(r_image,g_image)\n",
    "plt.xlim(0,1)\n",
    "plt.ylim(0,1)\n",
    "plt.show() "
   ]
  },
  {
   "cell_type": "code",
   "execution_count": null,
   "metadata": {},
   "outputs": [],
   "source": [
    "plt.scatter(r_cropped,g_cropped)\n",
    "plt.xlim(0,1)\n",
    "plt.ylim(0,1)\n",
    "plt.show()"
   ]
  },
  {
   "cell_type": "markdown",
   "metadata": {},
   "source": [
    "## Non Parametric"
   ]
  },
  {
   "cell_type": "code",
   "execution_count": null,
   "metadata": {},
   "outputs": [],
   "source": [
    "def Non_parametric(image,patch): \n",
    "    \n",
    "    roi = cv2.imread(patch)\n",
    "    hsv = cv2.cvtColor(roi,cv2.COLOR_BGR2HSV)\n",
    "\n",
    "    target = cv2.imread(image)\n",
    "    hsvt = cv2.cvtColor(target,cv2.COLOR_BGR2HSV)\n",
    "\n",
    "\n",
    "    # calculating object histogram\n",
    "    roihist = cv2.calcHist([hsv],[0, 1], None, [1, 256], [0, 180, 0, 256] )\n",
    "   \n",
    "    # normalize histogram and apply backprojection\n",
    "    cv2.normalize(roihist,roihist,0,255,cv2.NORM_MINMAX)\n",
    "    dst = cv2.calcBackProject([hsvt],[0,1],roihist,[0,180,0,256],1)\n",
    "\n",
    "    # Now convolute with circular disc\n",
    "    disc = cv2.getStructuringElement(cv2.MORPH_ELLIPSE,(5,5))\n",
    "    cv2.filter2D(dst,-1,disc,dst)\n",
    "\n",
    "    # threshold and binary AND\n",
    "    ret,thresh = cv2.threshold(dst,50,255,0)\n",
    "    thresh = cv2.merge((thresh,thresh,thresh))\n",
    "    res = cv2.bitwise_and(target,thresh)\n",
    "    res_1 = np.vstack((target,thresh,res))\n",
    "\n",
    "    res[res == 0]= 255\n",
    "    #a = res[:,:,::-1]\n",
    "    cv2.imwrite('res.jpg', res_1)"
   ]
  },
  {
   "cell_type": "markdown",
   "metadata": {},
   "source": [
    "## Results"
   ]
  },
  {
   "cell_type": "code",
   "execution_count": null,
   "metadata": {},
   "outputs": [],
   "source": [
    "Non_parametric('Chanel_5.jpg','Chanel_5_Patch.png')"
   ]
  },
  {
   "cell_type": "code",
   "execution_count": null,
   "metadata": {},
   "outputs": [],
   "source": [
    "Parametric('Chanel_5.jpg','Chanel_5_Patch.png')"
   ]
  },
  {
   "cell_type": "code",
   "execution_count": null,
   "metadata": {},
   "outputs": [],
   "source": []
  },
  {
   "cell_type": "code",
   "execution_count": null,
   "metadata": {},
   "outputs": [],
   "source": []
  }
 ],
 "metadata": {
  "kernelspec": {
   "display_name": "Python 3",
   "language": "python",
   "name": "python3"
  },
  "language_info": {
   "codemirror_mode": {
    "name": "ipython",
    "version": 3
   },
   "file_extension": ".py",
   "mimetype": "text/x-python",
   "name": "python",
   "nbconvert_exporter": "python",
   "pygments_lexer": "ipython3",
   "version": "3.7.0"
  }
 },
 "nbformat": 4,
 "nbformat_minor": 2
}
